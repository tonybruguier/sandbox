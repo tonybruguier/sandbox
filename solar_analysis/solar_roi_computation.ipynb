{
 "cells": [
  {
   "cell_type": "markdown",
   "metadata": {},
   "source": [
    "This code is experimental and provided as is. Comments can be emailed to tony.bruguier@gmail.com\n",
    "\n",
    "You need to download your PG&E data. This is the current instructions: https://www.pge.com/pge_global/common/pdfs/save-energy-money/analyze-your-usage/energy-data-hub/Download-My-Data-User-Guide.pdf\n",
    "\n",
    "Be sure to use the option \"Export usage for a range of days\" so that you have hour-by-hour usage. There is a one-year limit so, if you want a longer period, you will have to repeat the process and concatenate the files. Otherwise, be sure to have an overlap with the irradiation data. I have my own usage data here."
   ]
  },
  {
   "cell_type": "code",
   "execution_count": 6,
   "metadata": {},
   "outputs": [],
   "source": [
    "import csv\n",
    "from datetime import (date, datetime, time)\n",
    "import re"
   ]
  },
  {
   "cell_type": "code",
   "execution_count": 7,
   "metadata": {},
   "outputs": [],
   "source": [
    "usage_filename = 'pge_usage.csv'  # Point to your file that you downloaded.\n",
    "\n",
    "usage_data = []\n",
    "with open(usage_filename, newline='') as csvfile:\n",
    "    csvreader = csv.reader(csvfile, delimiter=',')\n",
    "    for row in csvreader:\n",
    "        if len(row) >= 7 and row[0] == 'Electric usage':\n",
    "            d = date.fromisoformat(row[1])\n",
    "            t = time.fromisoformat(row[2])\n",
    "            u = float(row[4])\n",
    "            usage_data.append((d, t, u,))\n",
    "            \n",
    "# We do not want partial months, as they mess up the analysis, so we trim the\n",
    "# data to remove the first and last months of the series.\n",
    "_min_year = min(x[0].year for x in usage_data)\n",
    "_min_month = min(x[0].month for x in usage_data if x[0].year == _min_year)\n",
    "\n",
    "_max_year = max(x[0].year for x in usage_data)\n",
    "_max_month = max(x[0].month for x in usage_data if x[0].year == _max_year)\n",
    "\n",
    "usage_data = [x for x in usage_data\n",
    "                 if (x[0].year > _min_year or x[0].month > _min_month)\n",
    "                and (x[0].year < _max_year or x[0].month < _max_month)]\n",
    "\n",
    "# Sort the data, just in case it wasn't\n",
    "usage_data = sorted(usage_data, key=lambda x: datetime.combine(x[0], x[1]))\n",
    "\n",
    "first_date = usage_data[0][0]\n",
    "last_date = usage_data[-1][0]"
   ]
  },
  {
   "cell_type": "markdown",
   "metadata": {},
   "source": [
    "Now, we can download the solar irradiation data. It is available there: https://nsrdb.nrel.gov/data-sets/download-instructions.html\n",
    "\n",
    "The data does not have to overlap in time, but it would be nice to have more than one year."
   ]
  },
  {
   "cell_type": "code",
   "execution_count": 8,
   "metadata": {},
   "outputs": [
    {
     "ename": "NameError",
     "evalue": "name 're' is not defined",
     "output_type": "error",
     "traceback": [
      "\u001b[0;31m---------------------------------------------------------------------------\u001b[0m",
      "\u001b[0;31mNameError\u001b[0m                                 Traceback (most recent call last)",
      "\u001b[0;32m<ipython-input-8-b4eed924e2f6>\u001b[0m in \u001b[0;36m<module>\u001b[0;34m\u001b[0m\n\u001b[1;32m      5\u001b[0m     \u001b[0mcsvreader\u001b[0m \u001b[0;34m=\u001b[0m \u001b[0mcsv\u001b[0m\u001b[0;34m.\u001b[0m\u001b[0mreader\u001b[0m\u001b[0;34m(\u001b[0m\u001b[0mcsvfile\u001b[0m\u001b[0;34m,\u001b[0m \u001b[0mdelimiter\u001b[0m\u001b[0;34m=\u001b[0m\u001b[0;34m','\u001b[0m\u001b[0;34m)\u001b[0m\u001b[0;34m\u001b[0m\u001b[0;34m\u001b[0m\u001b[0m\n\u001b[1;32m      6\u001b[0m     \u001b[0;32mfor\u001b[0m \u001b[0mrow\u001b[0m \u001b[0;32min\u001b[0m \u001b[0mcsvreader\u001b[0m\u001b[0;34m:\u001b[0m\u001b[0;34m\u001b[0m\u001b[0;34m\u001b[0m\u001b[0m\n\u001b[0;32m----> 7\u001b[0;31m         \u001b[0;32mif\u001b[0m \u001b[0mlen\u001b[0m\u001b[0;34m(\u001b[0m\u001b[0mrow\u001b[0m\u001b[0;34m)\u001b[0m \u001b[0;34m>=\u001b[0m \u001b[0;36m8\u001b[0m \u001b[0;32mand\u001b[0m \u001b[0mre\u001b[0m\u001b[0;34m.\u001b[0m\u001b[0mmatch\u001b[0m\u001b[0;34m(\u001b[0m\u001b[0;34m'[1-9][0-9]{3}'\u001b[0m\u001b[0;34m,\u001b[0m \u001b[0mrow\u001b[0m\u001b[0;34m[\u001b[0m\u001b[0;36m0\u001b[0m\u001b[0;34m]\u001b[0m\u001b[0;34m)\u001b[0m\u001b[0;34m:\u001b[0m\u001b[0;34m\u001b[0m\u001b[0;34m\u001b[0m\u001b[0m\n\u001b[0m\u001b[1;32m      8\u001b[0m             \u001b[0md\u001b[0m \u001b[0;34m=\u001b[0m \u001b[0mdate\u001b[0m\u001b[0;34m(\u001b[0m\u001b[0mint\u001b[0m\u001b[0;34m(\u001b[0m\u001b[0mrow\u001b[0m\u001b[0;34m[\u001b[0m\u001b[0;36m0\u001b[0m\u001b[0;34m]\u001b[0m\u001b[0;34m)\u001b[0m\u001b[0;34m,\u001b[0m \u001b[0mint\u001b[0m\u001b[0;34m(\u001b[0m\u001b[0mrow\u001b[0m\u001b[0;34m[\u001b[0m\u001b[0;36m1\u001b[0m\u001b[0;34m]\u001b[0m\u001b[0;34m)\u001b[0m\u001b[0;34m,\u001b[0m \u001b[0mint\u001b[0m\u001b[0;34m(\u001b[0m\u001b[0mrow\u001b[0m\u001b[0;34m[\u001b[0m\u001b[0;36m2\u001b[0m\u001b[0;34m]\u001b[0m\u001b[0;34m)\u001b[0m\u001b[0;34m)\u001b[0m\u001b[0;34m\u001b[0m\u001b[0;34m\u001b[0m\u001b[0m\n\u001b[1;32m      9\u001b[0m             \u001b[0mt\u001b[0m \u001b[0;34m=\u001b[0m \u001b[0mtime\u001b[0m\u001b[0;34m(\u001b[0m\u001b[0mint\u001b[0m\u001b[0;34m(\u001b[0m\u001b[0mrow\u001b[0m\u001b[0;34m[\u001b[0m\u001b[0;36m3\u001b[0m\u001b[0;34m]\u001b[0m\u001b[0;34m)\u001b[0m\u001b[0;34m,\u001b[0m \u001b[0mint\u001b[0m\u001b[0;34m(\u001b[0m\u001b[0mrow\u001b[0m\u001b[0;34m[\u001b[0m\u001b[0;36m4\u001b[0m\u001b[0;34m]\u001b[0m\u001b[0;34m)\u001b[0m\u001b[0;34m)\u001b[0m\u001b[0;34m\u001b[0m\u001b[0;34m\u001b[0m\u001b[0m\n",
      "\u001b[0;31mNameError\u001b[0m: name 're' is not defined"
     ]
    }
   ],
   "source": [
    "solar_filename = 'solar_data.csv'  # Point to your file that you downloaded.\n",
    "\n",
    "solar_data = []\n",
    "with open(solar_filename, newline='') as csvfile:\n",
    "    csvreader = csv.reader(csvfile, delimiter=',')\n",
    "    for row in csvreader:\n",
    "        if len(row) >= 8 and re.match('[1-9][0-9]{3}', row[0]):\n",
    "            d = date(int(row[0]), int(row[1]), int(row[2]))\n",
    "            t = time(int(row[3]), int(row[4]))\n",
    "            s = float(row[5])\n",
    "            solar_data.append((d, t, s,))\n",
    "            \n",
    "# Sort the data, just in case it wasn't\n",
    "solar_data = sorted(solar_data, key=lambda x: datetime.combine(x[0], x[1]))"
   ]
  }
 ],
 "metadata": {
  "kernelspec": {
   "display_name": "Python 3",
   "language": "python",
   "name": "python3"
  },
  "language_info": {
   "codemirror_mode": {
    "name": "ipython",
    "version": 3
   },
   "file_extension": ".py",
   "mimetype": "text/x-python",
   "name": "python",
   "nbconvert_exporter": "python",
   "pygments_lexer": "ipython3",
   "version": "3.8.5"
  }
 },
 "nbformat": 4,
 "nbformat_minor": 2
}
