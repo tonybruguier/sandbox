{
 "cells": [
  {
   "cell_type": "markdown",
   "metadata": {},
   "source": [
    "This code is experimental and provided as is. Comments can be emailed to tony.bruguier@gmail.com\n",
    "\n",
    "You need to download your PG&E data. This is the current instructions: https://www.pge.com/pge_global/common/pdfs/save-energy-money/analyze-your-usage/energy-data-hub/Download-My-Data-User-Guide.pdf\n",
    "\n",
    "Be sure to use the option \"Export usage for a range of days\" so that you have hour-by-hour usage. There is a one-year limit so, if you want a longer period, you will have to repeat the process and concatenate the files. Otherwise, be sure to have an overlap with the irradiation data. I have my own usage data here."
   ]
  },
  {
   "cell_type": "code",
   "execution_count": 1,
   "metadata": {},
   "outputs": [],
   "source": [
    "import csv\n",
    "from datetime import (date, datetime, time, timedelta)\n",
    "import re"
   ]
  },
  {
   "cell_type": "code",
   "execution_count": 2,
   "metadata": {},
   "outputs": [],
   "source": [
    "usage_filename = 'pge_usage.csv'  # Point to your file that you downloaded.\n",
    "\n",
    "# The PG&E data takes into account daylight saving time, but the solar\n",
    "# data (below) does not. So we convert everything to winter time. You might\n",
    "# have to change the initial value of 'in_winter_time' because I didn't have\n",
    "# the heart to handle timezone.\n",
    "in_winter_time = False\n",
    "\n",
    "prev_dt = None\n",
    "usage_data = {}\n",
    "with open(usage_filename, newline='') as csvfile:\n",
    "    csvreader = csv.reader(csvfile, delimiter=',')\n",
    "    for row in csvreader:\n",
    "        if len(row) >= 7 and row[0] == 'Electric usage':\n",
    "            d = date.fromisoformat(row[1])\n",
    "            t = time.fromisoformat(row[2])\n",
    "                \n",
    "            if prev_dt:\n",
    "                time_delta_hours = (datetime.combine(d, t) - prev_dt).seconds / 3600\n",
    "                \n",
    "                if time_delta_hours == 0:\n",
    "                    if in_winter_time:\n",
    "                        raise ValueError('Initial value of in_winter_time should have been False')\n",
    "                    in_winter_time = True\n",
    "                elif time_delta_hours == 2:\n",
    "                    if not in_winter_time:\n",
    "                        raise ValueError('Initial value of in_winter_time should have been True')\n",
    "                    in_winter_time = False\n",
    "                else:\n",
    "                    assert time_delta_hours == 1\n",
    "            \n",
    "            u = float(row[4])\n",
    "            \n",
    "            dt = datetime.combine(d, t) \n",
    "            dt_corrected = dt if in_winter_time else dt - timedelta(seconds=3600)\n",
    "            \n",
    "            assert dt_corrected not in usage_data, '%s already inserted' % (dt)\n",
    "            usage_data[dt_corrected] = u\n",
    "            \n",
    "            prev_dt = dt"
   ]
  },
  {
   "cell_type": "markdown",
   "metadata": {},
   "source": [
    "Now, we can download the solar irradiation data. It is available there: https://nsrdb.nrel.gov/data-sets/download-instructions.html\n",
    "\n",
    "The currently uses the approximation of using the GHI because I suspect it's more conservative.\n",
    "\n",
    "There appear to be more fancy measures:\n",
    "\"Photovoltaic system derived data for determining the solar resource and\n",
    "for modeling the performance of other photovoltaic systems\" by Bill Marion and Benjamin Smith.\n",
    "https://www.osti.gov/pages/servlets/purl/1349802"
   ]
  },
  {
   "cell_type": "code",
   "execution_count": 3,
   "metadata": {},
   "outputs": [],
   "source": [
    "solar_filename = 'solar_data.csv'  # Point to your file that you downloaded.\n",
    "\n",
    "ghi_index = -1\n",
    "solar_data = {}\n",
    "with open(solar_filename, newline='') as csvfile:\n",
    "    csvreader = csv.reader(csvfile, delimiter=',')\n",
    "    for row in csvreader:\n",
    "        if ghi_index == -1:\n",
    "            ghi_index = row.index('GHI')\n",
    "        else:\n",
    "            d = date(int(row[0]), int(row[1]), int(row[2]))\n",
    "            # We ignore the minutes, and just add every value for a given hour.\n",
    "            t = time(int(row[3]), 0)\n",
    "            dt = datetime.combine(d, t)\n",
    "            \n",
    "            s = float(row[ghi_index])\n",
    "            \n",
    "            solar_data[dt] = solar_data.get(dt, 0.0) + s\n",
    "\n",
    "# Technically, we should take into account leap years and daylight saving\n",
    "# time, but the government somehow forgot that February 29 exists.\n",
    "num_years_solar_data = len(solar_data) / (365.0 * 24.0 * 2.0)"
   ]
  },
  {
   "cell_type": "markdown",
   "metadata": {},
   "source": [
    "We make another approximation. Vendors typically give us an amount of power that will be generated during a year. So what we do is compute a linearity coefficient between the number of energy that the vendor will give us and the DHI (kWh / m^2). This allows us to estimate the amount of power generated for any day and any time."
   ]
  },
  {
   "cell_type": "code",
   "execution_count": 4,
   "metadata": {},
   "outputs": [
    {
     "name": "stdout",
     "output_type": "stream",
     "text": [
      "Average power adverised: 596 W\n"
     ]
    }
   ],
   "source": [
    "power_adverized = 5221  # [kWh / year]\n",
    "print('Average power adverised: %.0f W' % (power_adverized / (365.0 * 24.0) * 1000.0))\n",
    "\n",
    "# We assume that the vendor is lying about the energy produced, so if\n",
    "# you have 0.80 below, it means that the system will only deliver 80%\n",
    "# of what was advertized\n",
    "vendor_lying_factor = 0.8 # []\n",
    "\n",
    "yearly_solar_irradiation = sum(solar_data.values()) / num_years_solar_data  # [kWh / m^2 / year]\n",
    "\n",
    "irradiation_to_power = power_adverized * vendor_lying_factor / yearly_solar_irradiation  # [m^2]"
   ]
  }
 ],
 "metadata": {
  "kernelspec": {
   "display_name": "Python 3",
   "language": "python",
   "name": "python3"
  },
  "language_info": {
   "codemirror_mode": {
    "name": "ipython",
    "version": 3
   },
   "file_extension": ".py",
   "mimetype": "text/x-python",
   "name": "python",
   "nbconvert_exporter": "python",
   "pygments_lexer": "ipython3",
   "version": "3.8.5"
  }
 },
 "nbformat": 4,
 "nbformat_minor": 2
}
