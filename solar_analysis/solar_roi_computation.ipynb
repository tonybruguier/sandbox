{
 "cells": [
  {
   "cell_type": "markdown",
   "metadata": {},
   "source": [
    "This code is experimental and provided as is. Comments can be emailed to tony.bruguier@gmail.com\n",
    "\n",
    "You need to download your PG&E data. This is the current instructions: https://www.pge.com/pge_global/common/pdfs/save-energy-money/analyze-your-usage/energy-data-hub/Download-My-Data-User-Guide.pdf\n",
    "\n",
    "Be sure to use the option \"Export usage for a range of days\" so that you have hour-by-hour usage. There is a one-year limit so, if you want a longer period, you will have to repeat the process and concatenate the files. Otherwise, be sure to have an overlap with the irradiation data. I have my own usage data here."
   ]
  },
  {
   "cell_type": "code",
   "execution_count": 1,
   "metadata": {},
   "outputs": [],
   "source": [
    "import csv\n",
    "from datetime import (date, datetime, time, timedelta)\n",
    "import ipywidgets as widgets\n",
    "import matplotlib.pyplot as plt\n",
    "from IPython.core.display import HTML"
   ]
  },
  {
   "cell_type": "code",
   "execution_count": 2,
   "metadata": {},
   "outputs": [],
   "source": [
    "usage_filename = 'pge_usage.csv'  # Point to your file that you downloaded.\n",
    "\n",
    "# The PG&E data takes into account daylight saving time, but the solar\n",
    "# data (below) does not. So we convert everything to winter time. You might\n",
    "# have to change the initial value of 'in_winter_time' because I didn't have\n",
    "# the heart to handle timezone.\n",
    "in_winter_time = False\n",
    "\n",
    "prev_dt = None\n",
    "usage_data = {}\n",
    "with open(usage_filename, newline='') as csvfile:\n",
    "    csvreader = csv.reader(csvfile, delimiter=',')\n",
    "    for row in csvreader:\n",
    "        if len(row) >= 7 and row[0] == 'Electric usage':\n",
    "            d = date.fromisoformat(row[1])\n",
    "            t = time.fromisoformat(row[2])\n",
    "                \n",
    "            if prev_dt:\n",
    "                time_delta_hours = (datetime.combine(d, t) - prev_dt).seconds / 3600\n",
    "                \n",
    "                if time_delta_hours == 0:\n",
    "                    if in_winter_time:\n",
    "                        raise ValueError('Initial value of in_winter_time should have been False')\n",
    "                    in_winter_time = True\n",
    "                elif time_delta_hours == 2:\n",
    "                    if not in_winter_time:\n",
    "                        raise ValueError('Initial value of in_winter_time should have been True')\n",
    "                    in_winter_time = False\n",
    "                else:\n",
    "                    assert time_delta_hours == 1\n",
    "            \n",
    "            u = float(row[4])\n",
    "            \n",
    "            dt = datetime.combine(d, t) \n",
    "            dt_corrected = dt if in_winter_time else dt - timedelta(seconds=3600)\n",
    "            \n",
    "            assert dt_corrected not in usage_data, '%s already inserted' % (dt)\n",
    "            usage_data[dt_corrected] = (u, d.weekday(), t.hour)\n",
    "            \n",
    "            prev_dt = dt"
   ]
  },
  {
   "cell_type": "markdown",
   "metadata": {},
   "source": [
    "Now, you can download the solar irradiation data. It is available there: https://nsrdb.nrel.gov/data-sets/download-instructions.html\n",
    "\n",
    "The code currently uses the approximation of using the GHI because I suspect it's more conservative.\n",
    "\n",
    "There appears to be more fancy measures:\n",
    "\"Photovoltaic system derived data for determining the solar resource and\n",
    "for modeling the performance of other photovoltaic systems\" by Bill Marion and Benjamin Smith.\n",
    "https://www.osti.gov/pages/servlets/purl/1349802"
   ]
  },
  {
   "cell_type": "code",
   "execution_count": 3,
   "metadata": {},
   "outputs": [],
   "source": [
    "solar_filename = 'solar_data.csv'  # Point to your file that you downloaded.\n",
    "\n",
    "ghi_index = -1\n",
    "solar_data = {}\n",
    "with open(solar_filename, newline='') as csvfile:\n",
    "    csvreader = csv.reader(csvfile, delimiter=',')\n",
    "    for row in csvreader:\n",
    "        if ghi_index == -1:\n",
    "            ghi_index = row.index('GHI')\n",
    "        else:\n",
    "            d = date(int(row[0]), int(row[1]), int(row[2]))\n",
    "            # We ignore the minutes, and just add every value for a given hour.\n",
    "            t = time(int(row[3]), 0)\n",
    "            dt = datetime.combine(d, t)\n",
    "            \n",
    "            s = float(row[ghi_index])\n",
    "            \n",
    "            solar_data[dt] = solar_data.get(dt, 0.0) + s\n",
    "\n",
    "# Technically, we should take into account leap years, but the government somehow forgot that February 29 exists.\n",
    "num_years_solar_data = len(solar_data) / (365.0 * 24.0)"
   ]
  },
  {
   "cell_type": "markdown",
   "metadata": {},
   "source": [
    "I make another approximation. Vendors typically give us an amount of power that will be generated during a year. So what I do is compute a linearity coefficient between the energy (kW) that the vendor will give us and the DHI (kWh / m^2). This allows me to estimate the amount of power generated for any day and any time."
   ]
  },
  {
   "cell_type": "code",
   "execution_count": 4,
   "metadata": {},
   "outputs": [
    {
     "name": "stdout",
     "output_type": "stream",
     "text": [
      "Average power advertised: 596 W\n"
     ]
    }
   ],
   "source": [
    "power_advertised = 5221  # [kWh / year]\n",
    "print('Average power advertised: %.0f W' % (power_advertised / (365.0 * 24.0) * 1000.0))\n",
    "\n",
    "# I assume that the vendor is lying about the energy produced, so if you have 0.80 below, it means that the\n",
    "# system will only deliver 80% of what was advertised.\n",
    "vendor_lying_factor = 0.80 # []\n",
    "\n",
    "yearly_solar_irradiation = sum(solar_data.values()) / num_years_solar_data  # [kWh / m^2 / year]\n",
    "\n",
    "irradiation_to_power = power_advertised * vendor_lying_factor / yearly_solar_irradiation  # [m^2]"
   ]
  },
  {
   "cell_type": "markdown",
   "metadata": {},
   "source": [
    "I now compute the amount of power we expect to buy and sell on weekdays and weekend days, for each hour. Note that for a given slot, we could both be buying and selling. For example, on a Sunday at 1pm we might be selling power (not home), but the next Sunday at 1pm we might be buying (it's raining and we stayed home). It doesn't really matter, as long as electricity is bought and sold at the same price on Sundays at 1pm."
   ]
  },
  {
   "cell_type": "code",
   "execution_count": 5,
   "metadata": {},
   "outputs": [
    {
     "data": {
      "text/html": [
       "<table style=\"width:100%\"><tr><th>Hour</th><th>Weekday consumed</th><th>Weekday generated</th><th>Weekend consumed</th><th>Weekend generated</th></tr><tr><td>00:00</td><td>56 kWh</td><td>0 kWh</td><td>24 kWh</td><td>0 kWh</td></tr><tr><td>01:00</td><td>58 kWh</td><td>0 kWh</td><td>27 kWh</td><td>0 kWh</td></tr><tr><td>02:00</td><td>59 kWh</td><td>0 kWh</td><td>24 kWh</td><td>0 kWh</td></tr><tr><td>03:00</td><td>57 kWh</td><td>0 kWh</td><td>24 kWh</td><td>0 kWh</td></tr><tr><td>04:00</td><td>60 kWh</td><td>0 kWh</td><td>25 kWh</td><td>0 kWh</td></tr><tr><td>05:00</td><td>67 kWh</td><td>0 kWh</td><td>27 kWh</td><td>0 kWh</td></tr><tr><td>06:00</td><td>89 kWh</td><td>0 kWh</td><td>27 kWh</td><td>0 kWh</td></tr><tr><td>07:00</td><td>56 kWh</td><td>9 kWh</td><td>24 kWh</td><td>3 kWh</td></tr><tr><td>08:00</td><td>7 kWh</td><td>75 kWh</td><td>17 kWh</td><td>13 kWh</td></tr><tr><td>09:00</td><td>5 kWh</td><td>166 kWh</td><td>21 kWh</td><td>43 kWh</td></tr><tr><td>10:00</td><td>0 kWh</td><td>256 kWh</td><td>12 kWh</td><td>82 kWh</td></tr><tr><td>11:00</td><td>0 kWh</td><td>321 kWh</td><td>23 kWh</td><td>103 kWh</td></tr><tr><td>12:00</td><td>0 kWh</td><td>353 kWh</td><td>25 kWh</td><td>116 kWh</td></tr><tr><td>13:00</td><td>1 kWh</td><td>354 kWh</td><td>22 kWh</td><td>120 kWh</td></tr><tr><td>14:00</td><td>1 kWh</td><td>328 kWh</td><td>23 kWh</td><td>111 kWh</td></tr><tr><td>15:00</td><td>5 kWh</td><td>271 kWh</td><td>26 kWh</td><td>93 kWh</td></tr><tr><td>16:00</td><td>11 kWh</td><td>196 kWh</td><td>30 kWh</td><td>67 kWh</td></tr><tr><td>17:00</td><td>70 kWh</td><td>88 kWh</td><td>34 kWh</td><td>32 kWh</td></tr><tr><td>18:00</td><td>146 kWh</td><td>21 kWh</td><td>63 kWh</td><td>9 kWh</td></tr><tr><td>19:00</td><td>183 kWh</td><td>1 kWh</td><td>76 kWh</td><td>1 kWh</td></tr><tr><td>20:00</td><td>106 kWh</td><td>0 kWh</td><td>43 kWh</td><td>0 kWh</td></tr><tr><td>21:00</td><td>82 kWh</td><td>0 kWh</td><td>34 kWh</td><td>0 kWh</td></tr><tr><td>22:00</td><td>63 kWh</td><td>0 kWh</td><td>25 kWh</td><td>0 kWh</td></tr><tr><td>23:00</td><td>58 kWh</td><td>0 kWh</td><td>23 kWh</td><td>0 kWh</td></tr></table>"
      ],
      "text/plain": [
       "<IPython.core.display.HTML object>"
      ]
     },
     "execution_count": 5,
     "metadata": {},
     "output_type": "execute_result"
    }
   ],
   "source": [
    "start_analysis_date = date.fromisoformat('2019-01-01')\n",
    "\n",
    "generated_weekdays = [0.0] * 24\n",
    "generated_weekends = [0.0] * 24\n",
    "consumed_weekdays = [0.0] * 24\n",
    "consumed_weekends = [0.0] * 24\n",
    "\n",
    "raw_consumed = 0.0\n",
    "\n",
    "date = start_analysis_date\n",
    "while date < start_analysis_date + timedelta(days=365):\n",
    "    if date.month == 2 and date.day == 29:\n",
    "        # We ignore leap years, since we don't have data anyway.\n",
    "        continue\n",
    "        \n",
    "    for hour in range(24):\n",
    "        dt = datetime.combine(date, time(hour, 0))\n",
    "        \n",
    "        usage, day_of_week, civil_hour = usage_data[dt]\n",
    "        generated = solar_data[dt] * irradiation_to_power\n",
    "        \n",
    "        if day_of_week in [0, 1, 2, 3, 4]:\n",
    "            if usage > generated:\n",
    "                consumed_weekdays[civil_hour] += usage - generated\n",
    "            else:\n",
    "                generated_weekdays[civil_hour] += generated - usage\n",
    "        else:\n",
    "            if usage > generated:\n",
    "                consumed_weekends[civil_hour] += usage - generated\n",
    "            else:\n",
    "                generated_weekends[civil_hour] += generated - usage\n",
    "        \n",
    "        raw_consumed += usage\n",
    "        \n",
    "    date += timedelta(days=1)\n",
    "\n",
    "html = '<table style=\"width:100%\"><tr><th>Hour</th><th>Weekday consumed</th><th>Weekday generated</th><th>Weekend consumed</th><th>Weekend generated</th></tr>'\n",
    "for hour in range(24):\n",
    "    html += '<tr><td>%.2d:00</td><td>%.0f kWh</td><td>%.0f kWh</td><td>%.0f kWh</td><td>%.0f kWh</td></tr>' % (hour, consumed_weekdays[hour], generated_weekdays[hour], consumed_weekends[hour], generated_weekends[hour])\n",
    "html += '</table>'\n",
    "    \n",
    "HTML(html)\n",
    "\n"
   ]
  },
  {
   "cell_type": "markdown",
   "metadata": {},
   "source": [
    "I discount the future cash flow by using a risk-free interest. This could come either from:\n",
    "* buying EE Bonds (guaranteed to double in 20 years, https://www.treasurydirect.gov/indiv/products/prod_eebonds_glance.htm), so it has a rate of 3.53%\n",
    "* buying 20 year Treasurys (current rates: https://www.treasury.gov/resource-center/data-chart-center/interest-rates/pages/textview.aspx?data=yield)\n",
    "* pre-paying the mortgage\n",
    "\n",
    "As for the PG&E rate plans, they can be found here:\n",
    "https://www.pge.com/tariffs/electric.shtml\n",
    "I *think* we have to be on a time-of-use plan for solar."
   ]
  },
  {
   "cell_type": "code",
   "execution_count": 6,
   "metadata": {},
   "outputs": [
    {
     "data": {
      "application/vnd.jupyter.widget-view+json": {
       "model_id": "ad77ce4f86e94b47bd3f915b684a10ae",
       "version_major": 2,
       "version_minor": 0
      },
      "text/plain": [
       "interactive(children=(FloatSlider(value=3.53, description='Risk free rate %', layout=Layout(width='500px'), ma…"
      ]
     },
     "metadata": {},
     "output_type": "display_data"
    }
   ],
   "source": [
    "def redraw_plot(_):\n",
    "    fig = plt.figure(figsize=(12, 4), dpi=100);\n",
    "    plt.plot([0, 1, 2], [0.0, _, 10.0])\n",
    "\n",
    "style = {'description_width': '200px', 'width': '500px'}\n",
    "layout = widgets.Layout(width='500px')\n",
    "\n",
    "widgets.interact(redraw_plot, _=widgets.FloatSlider(min=0.0, max=5.0, step=0.01, value=3.53,\n",
    "                                     description='Risk free rate %',\n",
    "                                     layout=layout, style=style));\n",
    "\n"
   ]
  },
  {
   "cell_type": "code",
   "execution_count": 7,
   "metadata": {},
   "outputs": [],
   "source": [
    "# current_flat_rate = widgets.FloatSlider(min=0.0, max=1.0, step=0.01, value=0.25,\n",
    "#                                         description='Flat rate $',\n",
    "#                                         layout=layout, style=style)\n",
    "\n",
    "# time_of_use_general = widgets.FloatSlider(min=0.0, max=1.0, step=0.01, value=0.25,\n",
    "#                                           description='Time of use rate (general) $',\n",
    "#                                           layout=layout, style=style)\n",
    "\n",
    "# time_of_use_peak = widgets.FloatSlider(min=0.0, max=1.0, step=0.01, value=0.42,\n",
    "#                                        description='Time of use rate (peak) $',\n",
    "#                                        layout=layout, style=style)\n",
    "\n",
    "# pge_change_rate_sell = widgets.FloatSlider(min=-5.0, max=15.0, step=0.01, value=10.0,   \n",
    "#                                            description='PG&E yearly sell change %',\n",
    "#                                            layout=layout, style=style)\n",
    "\n",
    "# purchase_rate = widgets.FloatSlider(min=0.0, max=1.0, step=0.01, value=0.20,\n",
    "#                                     description='Purchase rate $',\n",
    "#                                     layout=layout, style=style)\n",
    "\n",
    "# pge_change_rate_buy = widgets.FloatSlider(min=-5.0, max=15.0, step=0.01, value=0.0,   \n",
    "#                                           description='PG&E yearly buy change %',\n",
    "#                                           layout=layout, style=style)"
   ]
  }
 ],
 "metadata": {
  "kernelspec": {
   "display_name": "Python 3",
   "language": "python",
   "name": "python3"
  },
  "language_info": {
   "codemirror_mode": {
    "name": "ipython",
    "version": 3
   },
   "file_extension": ".py",
   "mimetype": "text/x-python",
   "name": "python",
   "nbconvert_exporter": "python",
   "pygments_lexer": "ipython3",
   "version": "3.8.5"
  },
  "widgets": {
   "application/vnd.jupyter.widget-state+json": {
    "state": {
     "011691afd8a04c58819993c180e0bae1": {
      "model_module": "@jupyter-widgets/controls",
      "model_module_version": "1.5.0",
      "model_name": "FloatSliderModel",
      "state": {
       "layout": "IPY_MODEL_7908ffe392c4484fa56733bb67f7cc87",
       "step": 0.1,
       "style": "IPY_MODEL_943dcfe424974f79b54f1c0e299e7adf"
      }
     },
     "057d3fb314f149d1aa86b00140f4b807": {
      "model_module": "@jupyter-widgets/controls",
      "model_module_version": "1.5.0",
      "model_name": "SliderStyleModel",
      "state": {
       "description_width": ""
      }
     },
     "08d59cfff35c473da699658f7274a9d0": {
      "model_module": "@jupyter-widgets/base",
      "model_module_version": "1.2.0",
      "model_name": "LayoutModel",
      "state": {}
     },
     "24b42277810846348cb24af4c4b32f53": {
      "model_module": "@jupyter-widgets/controls",
      "model_module_version": "1.5.0",
      "model_name": "SliderStyleModel",
      "state": {
       "description_width": ""
      }
     },
     "24ecb1968d5443f981e2ab29587e6ff9": {
      "model_module": "@jupyter-widgets/base",
      "model_module_version": "1.2.0",
      "model_name": "LayoutModel",
      "state": {}
     },
     "262c2c504767411a9ae5ce74ec4bbcae": {
      "model_module": "@jupyter-widgets/controls",
      "model_module_version": "1.5.0",
      "model_name": "FloatSliderModel",
      "state": {
       "layout": "IPY_MODEL_ed83a27046714e0b9ea9f4554dbcf76d",
       "step": 0.1,
       "style": "IPY_MODEL_24b42277810846348cb24af4c4b32f53"
      }
     },
     "2d6d792b2dc344b5b11905df5415499d": {
      "model_module": "@jupyter-widgets/base",
      "model_module_version": "1.2.0",
      "model_name": "LayoutModel",
      "state": {}
     },
     "30adb544003a40338925688633574c29": {
      "model_module": "@jupyter-widgets/controls",
      "model_module_version": "1.5.0",
      "model_name": "SliderStyleModel",
      "state": {
       "description_width": ""
      }
     },
     "36eb6c77e0bf4a0f9c526426dba56b0f": {
      "model_module": "@jupyter-widgets/controls",
      "model_module_version": "1.5.0",
      "model_name": "FloatSliderModel",
      "state": {
       "layout": "IPY_MODEL_2d6d792b2dc344b5b11905df5415499d",
       "step": 0.1,
       "style": "IPY_MODEL_e5656852ca4f4fcf86982464a6fd362c"
      }
     },
     "3e2847e9f7384916bfb356a1ed28a147": {
      "model_module": "@jupyter-widgets/controls",
      "model_module_version": "1.5.0",
      "model_name": "FloatSliderModel",
      "state": {
       "description": "Flat rate USD",
       "layout": "IPY_MODEL_e1f3f5d7e1e04e279e969db72e7a1597",
       "step": 0.1,
       "style": "IPY_MODEL_057d3fb314f149d1aa86b00140f4b807"
      }
     },
     "3e6ba90eab9741578cc7ccb5f69f43f1": {
      "model_module": "@jupyter-widgets/base",
      "model_module_version": "1.2.0",
      "model_name": "LayoutModel",
      "state": {}
     },
     "3ffd0d5dbc17418594823d847b77f512": {
      "model_module": "@jupyter-widgets/controls",
      "model_module_version": "1.5.0",
      "model_name": "SliderStyleModel",
      "state": {
       "description_width": ""
      }
     },
     "4051fc9137f6438fb94a75e4d43bf86a": {
      "model_module": "@jupyter-widgets/controls",
      "model_module_version": "1.5.0",
      "model_name": "SliderStyleModel",
      "state": {
       "description_width": ""
      }
     },
     "44396e2c21364c079addc3a7c924d018": {
      "model_module": "@jupyter-widgets/controls",
      "model_module_version": "1.5.0",
      "model_name": "FloatSliderModel",
      "state": {
       "description": "Flat rate ()",
       "layout": "IPY_MODEL_5917890e30bf427e8c488aaaddd65710",
       "step": 0.1,
       "style": "IPY_MODEL_4051fc9137f6438fb94a75e4d43bf86a"
      }
     },
     "48de812aab30493390d19abce76c86ed": {
      "model_module": "@jupyter-widgets/base",
      "model_module_version": "1.2.0",
      "model_name": "LayoutModel",
      "state": {}
     },
     "4be11b1c9680457ca85b619ec1d18b15": {
      "model_module": "@jupyter-widgets/controls",
      "model_module_version": "1.5.0",
      "model_name": "SliderStyleModel",
      "state": {
       "description_width": ""
      }
     },
     "540fe690ede4417e8c642f5b21000c3d": {
      "model_module": "@jupyter-widgets/base",
      "model_module_version": "1.2.0",
      "model_name": "LayoutModel",
      "state": {}
     },
     "585594448e18447da539a030163f7ea1": {
      "model_module": "@jupyter-widgets/controls",
      "model_module_version": "1.5.0",
      "model_name": "FloatSliderModel",
      "state": {
       "layout": "IPY_MODEL_24ecb1968d5443f981e2ab29587e6ff9",
       "step": 0.1,
       "style": "IPY_MODEL_a36c0e9d7e72483f8e5c2e08793c6f99"
      }
     },
     "5917890e30bf427e8c488aaaddd65710": {
      "model_module": "@jupyter-widgets/base",
      "model_module_version": "1.2.0",
      "model_name": "LayoutModel",
      "state": {}
     },
     "6600913c9835413fa82fe6817b5d188a": {
      "model_module": "@jupyter-widgets/controls",
      "model_module_version": "1.5.0",
      "model_name": "FloatSliderModel",
      "state": {
       "layout": "IPY_MODEL_9570eae0a5cc47ab8e1800e6000175b0",
       "step": 0.1,
       "style": "IPY_MODEL_30adb544003a40338925688633574c29"
      }
     },
     "6c3179ab872e4187aa92c69f52b6d0e3": {
      "model_module": "@jupyter-widgets/controls",
      "model_module_version": "1.5.0",
      "model_name": "SliderStyleModel",
      "state": {
       "description_width": ""
      }
     },
     "6ca81b680f594bf0bf92f1e6c85fb404": {
      "model_module": "@jupyter-widgets/controls",
      "model_module_version": "1.5.0",
      "model_name": "FloatSliderModel",
      "state": {
       "layout": "IPY_MODEL_48de812aab30493390d19abce76c86ed",
       "step": 0.1,
       "style": "IPY_MODEL_7278426759db4b6f885f96220d77e7ec"
      }
     },
     "7278426759db4b6f885f96220d77e7ec": {
      "model_module": "@jupyter-widgets/controls",
      "model_module_version": "1.5.0",
      "model_name": "SliderStyleModel",
      "state": {
       "description_width": ""
      }
     },
     "7908ffe392c4484fa56733bb67f7cc87": {
      "model_module": "@jupyter-widgets/base",
      "model_module_version": "1.2.0",
      "model_name": "LayoutModel",
      "state": {}
     },
     "7922a5f0afd44f6eb6a03894037c4ad5": {
      "model_module": "@jupyter-widgets/controls",
      "model_module_version": "1.5.0",
      "model_name": "SliderStyleModel",
      "state": {
       "description_width": ""
      }
     },
     "7aa1dc5c5fa54320a57ab082babdb22f": {
      "model_module": "@jupyter-widgets/base",
      "model_module_version": "1.2.0",
      "model_name": "LayoutModel",
      "state": {}
     },
     "943dcfe424974f79b54f1c0e299e7adf": {
      "model_module": "@jupyter-widgets/controls",
      "model_module_version": "1.5.0",
      "model_name": "SliderStyleModel",
      "state": {
       "description_width": ""
      }
     },
     "9570eae0a5cc47ab8e1800e6000175b0": {
      "model_module": "@jupyter-widgets/base",
      "model_module_version": "1.2.0",
      "model_name": "LayoutModel",
      "state": {}
     },
     "a055eae9e4b44f20bcc571a28926400f": {
      "model_module": "@jupyter-widgets/controls",
      "model_module_version": "1.5.0",
      "model_name": "SliderStyleModel",
      "state": {
       "description_width": ""
      }
     },
     "a36c0e9d7e72483f8e5c2e08793c6f99": {
      "model_module": "@jupyter-widgets/controls",
      "model_module_version": "1.5.0",
      "model_name": "SliderStyleModel",
      "state": {
       "description_width": ""
      }
     },
     "b3b6bb50cdbb407699fc540144cd09e0": {
      "model_module": "@jupyter-widgets/controls",
      "model_module_version": "1.5.0",
      "model_name": "FloatSliderModel",
      "state": {
       "layout": "IPY_MODEL_baa85b10c4d0429cbf370efc8d07f8e0",
       "step": 0.1,
       "style": "IPY_MODEL_6c3179ab872e4187aa92c69f52b6d0e3",
       "value": 16.9
      }
     },
     "baa85b10c4d0429cbf370efc8d07f8e0": {
      "model_module": "@jupyter-widgets/base",
      "model_module_version": "1.2.0",
      "model_name": "LayoutModel",
      "state": {}
     },
     "baba55b4feeb41cea4d3ad87c78739ef": {
      "model_module": "@jupyter-widgets/controls",
      "model_module_version": "1.5.0",
      "model_name": "FloatSliderModel",
      "state": {
       "description": "Current flat rate ()",
       "layout": "IPY_MODEL_08d59cfff35c473da699658f7274a9d0",
       "step": 0.1,
       "style": "IPY_MODEL_3ffd0d5dbc17418594823d847b77f512"
      }
     },
     "c26a8b64c4424df4ac1d0de0f766f91b": {
      "model_module": "@jupyter-widgets/controls",
      "model_module_version": "1.5.0",
      "model_name": "FloatSliderModel",
      "state": {
       "layout": "IPY_MODEL_540fe690ede4417e8c642f5b21000c3d",
       "step": 0.1,
       "style": "IPY_MODEL_a055eae9e4b44f20bcc571a28926400f"
      }
     },
     "cd19fc247acb4070848f0b1352fe8474": {
      "model_module": "@jupyter-widgets/controls",
      "model_module_version": "1.5.0",
      "model_name": "FloatSliderModel",
      "state": {
       "description": "Flat rate (¢)",
       "layout": "IPY_MODEL_cd3d967b5bf34f07aff6aca65e6aff38",
       "step": 0.1,
       "style": "IPY_MODEL_cfc77b0a1bcb43d0bdd4529d67c98519"
      }
     },
     "cd3d967b5bf34f07aff6aca65e6aff38": {
      "model_module": "@jupyter-widgets/base",
      "model_module_version": "1.2.0",
      "model_name": "LayoutModel",
      "state": {}
     },
     "cfc77b0a1bcb43d0bdd4529d67c98519": {
      "model_module": "@jupyter-widgets/controls",
      "model_module_version": "1.5.0",
      "model_name": "SliderStyleModel",
      "state": {
       "description_width": ""
      }
     },
     "e1f3f5d7e1e04e279e969db72e7a1597": {
      "model_module": "@jupyter-widgets/base",
      "model_module_version": "1.2.0",
      "model_name": "LayoutModel",
      "state": {}
     },
     "e5656852ca4f4fcf86982464a6fd362c": {
      "model_module": "@jupyter-widgets/controls",
      "model_module_version": "1.5.0",
      "model_name": "SliderStyleModel",
      "state": {
       "description_width": ""
      }
     },
     "ed83a27046714e0b9ea9f4554dbcf76d": {
      "model_module": "@jupyter-widgets/base",
      "model_module_version": "1.2.0",
      "model_name": "LayoutModel",
      "state": {}
     },
     "ee2125dd40374c8482646eb5aac0f554": {
      "model_module": "@jupyter-widgets/controls",
      "model_module_version": "1.5.0",
      "model_name": "FloatSliderModel",
      "state": {
       "description": "Flat rate USD",
       "layout": "IPY_MODEL_7aa1dc5c5fa54320a57ab082babdb22f",
       "max": 1,
       "step": 0.01,
       "style": "IPY_MODEL_4be11b1c9680457ca85b619ec1d18b15",
       "value": 0.25
      }
     },
     "f615c80acd3746f2acc876201b29d096": {
      "model_module": "@jupyter-widgets/controls",
      "model_module_version": "1.5.0",
      "model_name": "FloatSliderModel",
      "state": {
       "layout": "IPY_MODEL_3e6ba90eab9741578cc7ccb5f69f43f1",
       "step": 0.1,
       "style": "IPY_MODEL_7922a5f0afd44f6eb6a03894037c4ad5"
      }
     }
    },
    "version_major": 2,
    "version_minor": 0
   }
  }
 },
 "nbformat": 4,
 "nbformat_minor": 2
}
