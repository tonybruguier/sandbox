{
 "cells": [
  {
   "cell_type": "markdown",
   "metadata": {},
   "source": [
    "This code is experimental and provided as is. Comments can be emailed to tony.bruguier@gmail.com\n",
    "\n",
    "You need to download your PG&E data. This is the current instructions: https://www.pge.com/pge_global/common/pdfs/save-energy-money/analyze-your-usage/energy-data-hub/Download-My-Data-User-Guide.pdf\n",
    "\n",
    "Be sure to use the option \"Export usage for a range of days\" so that you have hour-by-hour usage. There is a one-year limit so, if you want a longer period, you will have to repeat the process and concatenate the files. Otherwise, be sure to have an overlap with the irradiation data. I have my own usage data here."
   ]
  },
  {
   "cell_type": "code",
   "execution_count": 7,
   "metadata": {},
   "outputs": [],
   "source": [
    "import csv\n",
    "from datetime import (date, datetime, time, timedelta)\n",
    "from IPython.core.display import HTML"
   ]
  },
  {
   "cell_type": "code",
   "execution_count": 2,
   "metadata": {},
   "outputs": [],
   "source": [
    "usage_filename = 'pge_usage.csv'  # Point to your file that you downloaded.\n",
    "\n",
    "# The PG&E data takes into account daylight saving time, but the solar\n",
    "# data (below) does not. So we convert everything to winter time. You might\n",
    "# have to change the initial value of 'in_winter_time' because I didn't have\n",
    "# the heart to handle timezone.\n",
    "in_winter_time = False\n",
    "\n",
    "prev_dt = None\n",
    "usage_data = {}\n",
    "with open(usage_filename, newline='') as csvfile:\n",
    "    csvreader = csv.reader(csvfile, delimiter=',')\n",
    "    for row in csvreader:\n",
    "        if len(row) >= 7 and row[0] == 'Electric usage':\n",
    "            d = date.fromisoformat(row[1])\n",
    "            t = time.fromisoformat(row[2])\n",
    "                \n",
    "            if prev_dt:\n",
    "                time_delta_hours = (datetime.combine(d, t) - prev_dt).seconds / 3600\n",
    "                \n",
    "                if time_delta_hours == 0:\n",
    "                    if in_winter_time:\n",
    "                        raise ValueError('Initial value of in_winter_time should have been False')\n",
    "                    in_winter_time = True\n",
    "                elif time_delta_hours == 2:\n",
    "                    if not in_winter_time:\n",
    "                        raise ValueError('Initial value of in_winter_time should have been True')\n",
    "                    in_winter_time = False\n",
    "                else:\n",
    "                    assert time_delta_hours == 1\n",
    "            \n",
    "            u = float(row[4])\n",
    "            \n",
    "            dt = datetime.combine(d, t) \n",
    "            dt_corrected = dt if in_winter_time else dt - timedelta(seconds=3600)\n",
    "            \n",
    "            assert dt_corrected not in usage_data, '%s already inserted' % (dt)\n",
    "            usage_data[dt_corrected] = (u, d.weekday(), t.hour)\n",
    "            \n",
    "            prev_dt = dt"
   ]
  },
  {
   "cell_type": "markdown",
   "metadata": {},
   "source": [
    "Now, you can download the solar irradiation data. It is available there: https://nsrdb.nrel.gov/data-sets/download-instructions.html\n",
    "\n",
    "The code currently uses the approximation of using the GHI because I suspect it's more conservative.\n",
    "\n",
    "There appears to be more fancy measures:\n",
    "\"Photovoltaic system derived data for determining the solar resource and\n",
    "for modeling the performance of other photovoltaic systems\" by Bill Marion and Benjamin Smith.\n",
    "https://www.osti.gov/pages/servlets/purl/1349802"
   ]
  },
  {
   "cell_type": "code",
   "execution_count": 3,
   "metadata": {},
   "outputs": [],
   "source": [
    "solar_filename = 'solar_data.csv'  # Point to your file that you downloaded.\n",
    "\n",
    "ghi_index = -1\n",
    "solar_data = {}\n",
    "with open(solar_filename, newline='') as csvfile:\n",
    "    csvreader = csv.reader(csvfile, delimiter=',')\n",
    "    for row in csvreader:\n",
    "        if ghi_index == -1:\n",
    "            ghi_index = row.index('GHI')\n",
    "        else:\n",
    "            d = date(int(row[0]), int(row[1]), int(row[2]))\n",
    "            # We ignore the minutes, and just add every value for a given hour.\n",
    "            t = time(int(row[3]), 0)\n",
    "            dt = datetime.combine(d, t)\n",
    "            \n",
    "            s = float(row[ghi_index])\n",
    "            \n",
    "            solar_data[dt] = solar_data.get(dt, 0.0) + s\n",
    "\n",
    "# Technically, we should take into account leap years, but the government somehow forgot that February 29 exists.\n",
    "num_years_solar_data = len(solar_data) / (365.0 * 24.0)"
   ]
  },
  {
   "cell_type": "markdown",
   "metadata": {},
   "source": [
    "I make another approximation. Vendors typically give us an amount of power that will be generated during a year. So what I do is compute a linearity coefficient between the energy (kW) that the vendor will give us and the DHI (kWh / m^2). This allows me to estimate the amount of power generated for any day and any time."
   ]
  },
  {
   "cell_type": "code",
   "execution_count": 4,
   "metadata": {},
   "outputs": [
    {
     "name": "stdout",
     "output_type": "stream",
     "text": [
      "Average power advertised: 596 W\n"
     ]
    }
   ],
   "source": [
    "power_advertised = 5221  # [kWh / year]\n",
    "print('Average power advertised: %.0f W' % (power_advertised / (365.0 * 24.0) * 1000.0))\n",
    "\n",
    "# I assume that the vendor is lying about the energy produced, so if you have 0.80 below, it means that the\n",
    "# system will only deliver 80% of what was advertised.\n",
    "vendor_lying_factor = 0.80 # []\n",
    "\n",
    "yearly_solar_irradiation = sum(solar_data.values()) / num_years_solar_data  # [kWh / m^2 / year]\n",
    "\n",
    "irradiation_to_power = power_advertised * vendor_lying_factor / yearly_solar_irradiation  # [m^2]"
   ]
  },
  {
   "cell_type": "markdown",
   "metadata": {},
   "source": [
    "I now compute the amount of power we expect to buy and sell on weekdays and weekend days, for each hour. Note that for a given slot, we could both be buying and selling. For example, on a Sunday at 1pm we might be selling power (not home), but the next Sunday at 1pm we might be buying (it's raining and we stayed home). It doesn't really matter, as long as electricity is bought and sold at the same price on Sundays at 1pm."
   ]
  },
  {
   "cell_type": "code",
   "execution_count": 18,
   "metadata": {},
   "outputs": [
    {
     "data": {
      "text/html": [
       "<table style=\"width:100%\"><tr><th>Hour</th><th>Weekday consumed</th><th>Weekday generated</th><th>Weekend consumed</th><th>Weekend generated</th></tr><tr><td>0</td><td>56 kWh</td><td>0 kWh</td><td>24 kWh</td><td>0 kWh</td></tr><tr><td>1</td><td>58 kWh</td><td>0 kWh</td><td>27 kWh</td><td>0 kWh</td></tr><tr><td>2</td><td>59 kWh</td><td>0 kWh</td><td>24 kWh</td><td>0 kWh</td></tr><tr><td>3</td><td>57 kWh</td><td>0 kWh</td><td>24 kWh</td><td>0 kWh</td></tr><tr><td>4</td><td>60 kWh</td><td>0 kWh</td><td>25 kWh</td><td>0 kWh</td></tr><tr><td>5</td><td>67 kWh</td><td>0 kWh</td><td>27 kWh</td><td>0 kWh</td></tr><tr><td>6</td><td>89 kWh</td><td>0 kWh</td><td>27 kWh</td><td>0 kWh</td></tr><tr><td>7</td><td>56 kWh</td><td>9 kWh</td><td>24 kWh</td><td>3 kWh</td></tr><tr><td>8</td><td>7 kWh</td><td>75 kWh</td><td>17 kWh</td><td>13 kWh</td></tr><tr><td>9</td><td>5 kWh</td><td>166 kWh</td><td>21 kWh</td><td>43 kWh</td></tr><tr><td>10</td><td>0 kWh</td><td>256 kWh</td><td>12 kWh</td><td>82 kWh</td></tr><tr><td>11</td><td>0 kWh</td><td>321 kWh</td><td>23 kWh</td><td>103 kWh</td></tr><tr><td>12</td><td>0 kWh</td><td>353 kWh</td><td>25 kWh</td><td>116 kWh</td></tr><tr><td>13</td><td>1 kWh</td><td>354 kWh</td><td>22 kWh</td><td>120 kWh</td></tr><tr><td>14</td><td>1 kWh</td><td>328 kWh</td><td>23 kWh</td><td>111 kWh</td></tr><tr><td>15</td><td>5 kWh</td><td>271 kWh</td><td>26 kWh</td><td>93 kWh</td></tr><tr><td>16</td><td>11 kWh</td><td>196 kWh</td><td>30 kWh</td><td>67 kWh</td></tr><tr><td>17</td><td>70 kWh</td><td>88 kWh</td><td>34 kWh</td><td>32 kWh</td></tr><tr><td>18</td><td>146 kWh</td><td>21 kWh</td><td>63 kWh</td><td>9 kWh</td></tr><tr><td>19</td><td>183 kWh</td><td>1 kWh</td><td>76 kWh</td><td>1 kWh</td></tr><tr><td>20</td><td>106 kWh</td><td>0 kWh</td><td>43 kWh</td><td>0 kWh</td></tr><tr><td>21</td><td>82 kWh</td><td>0 kWh</td><td>34 kWh</td><td>0 kWh</td></tr><tr><td>22</td><td>63 kWh</td><td>0 kWh</td><td>25 kWh</td><td>0 kWh</td></tr><tr><td>23</td><td>58 kWh</td><td>0 kWh</td><td>23 kWh</td><td>0 kWh</td></tr></table>"
      ],
      "text/plain": [
       "<IPython.core.display.HTML object>"
      ]
     },
     "execution_count": 18,
     "metadata": {},
     "output_type": "execute_result"
    }
   ],
   "source": [
    "start_analysis_date = date.fromisoformat('2019-01-01')\n",
    "\n",
    "generated_weekdays = [0.0] * 24\n",
    "generated_weekends = [0.0] * 24\n",
    "consumed_weekdays = [0.0] * 24\n",
    "consumed_weekends = [0.0] * 24\n",
    "\n",
    "date = start_analysis_date\n",
    "while date < start_analysis_date + timedelta(days=365):\n",
    "    if date.month == 2 and date.day == 29:\n",
    "        # We ignore leap years, since we don't have data anyway.\n",
    "        continue\n",
    "        \n",
    "    for hour in range(24):\n",
    "        dt = datetime.combine(date, time(hour, 0))\n",
    "        \n",
    "        usage, day_of_week, civil_hour = usage_data[dt]\n",
    "        generated = solar_data[dt] * irradiation_to_power\n",
    "        \n",
    "        if day_of_week in [0, 1, 2, 3, 4]:\n",
    "            if usage > generated:\n",
    "                consumed_weekdays[civil_hour] += usage - generated\n",
    "            else:\n",
    "                generated_weekdays[civil_hour] += generated - usage\n",
    "        else:\n",
    "            if usage > generated:\n",
    "                consumed_weekends[civil_hour] += usage - generated\n",
    "            else:\n",
    "                generated_weekends[civil_hour] += generated - usage\n",
    "        \n",
    "    date += timedelta(days=1)\n",
    "\n",
    "html = '<table style=\"width:100%\"><tr><th>Hour</th><th>Weekday consumed</th><th>Weekday generated</th><th>Weekend consumed</th><th>Weekend generated</th></tr>'\n",
    "for hour in range(24):\n",
    "    html += '<tr><td>%d</td><td>%.0f kWh</td><td>%.0f kWh</td><td>%.0f kWh</td><td>%.0f kWh</td></tr>' % (hour, consumed_weekdays[hour], generated_weekdays[hour], consumed_weekends[hour], generated_weekends[hour])\n",
    "html += '</table>'\n",
    "    \n",
    "HTML(html)\n",
    "\n"
   ]
  },
  {
   "cell_type": "markdown",
   "metadata": {},
   "source": [
    "I discount the future cash flow by using a risk-free interest. This could come either from:\n",
    "* buying EE Bonds (guaranteed to double in 20 years, https://www.treasurydirect.gov/indiv/products/prod_eebonds_glance.htm)\n",
    "* buying 20 year Treasurys (current rates: https://www.treasury.gov/resource-center/data-chart-center/interest-rates/pages/textview.aspx?data=yield)\n",
    "* pre-paying the mortgage"
   ]
  },
  {
   "cell_type": "code",
   "execution_count": null,
   "metadata": {},
   "outputs": [],
   "source": []
  }
 ],
 "metadata": {
  "kernelspec": {
   "display_name": "Python 3",
   "language": "python",
   "name": "python3"
  },
  "language_info": {
   "codemirror_mode": {
    "name": "ipython",
    "version": 3
   },
   "file_extension": ".py",
   "mimetype": "text/x-python",
   "name": "python",
   "nbconvert_exporter": "python",
   "pygments_lexer": "ipython3",
   "version": "3.8.5"
  }
 },
 "nbformat": 4,
 "nbformat_minor": 2
}
