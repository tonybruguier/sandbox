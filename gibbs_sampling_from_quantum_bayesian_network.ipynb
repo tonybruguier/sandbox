{
 "cells": [
  {
   "cell_type": "markdown",
   "metadata": {
    "id": "7FV_m2u2Hny8"
   },
   "source": [
    "## Copyright 2022 The Cirq Developers"
   ]
  },
  {
   "cell_type": "code",
   "execution_count": 1,
   "metadata": {
    "cellView": "form",
    "id": "2XSh1-J7HrcU"
   },
   "outputs": [],
   "source": [
    "#@title Licensed under the Apache License, Version 2.0 (the \"License\");\n",
    "# you may not use this file except in compliance with the License.\n",
    "# You may obtain a copy of the License at\n",
    "#\n",
    "# https://www.apache.org/licenses/LICENSE-2.0\n",
    "#\n",
    "# Unless required by applicable law or agreed to in writing, software\n",
    "# distributed under the License is distributed on an \"AS IS\" BASIS,\n",
    "# WITHOUT WARRANTIES OR CONDITIONS OF ANY KIND, either express or implied.\n",
    "# See the License for the specific language governing permissions and\n",
    "# limitations under the License."
   ]
  },
  {
   "cell_type": "markdown",
   "metadata": {
    "id": "Me7G0WVTHwHg"
   },
   "source": [
    "# Cirq basics"
   ]
  },
  {
   "cell_type": "markdown",
   "metadata": {
    "id": "aAFfDwu7IFyx"
   },
   "source": [
    "<table class=\"tfo-notebook-buttons\" align=\"left\">\n",
    "  <td>\n",
    "    <a target=\"_blank\" href=\"https://quantumai.google/cirq/tutorials/gibbs_sampling_from_quantum_bayesian_network\"><img src=\"https://quantumai.google/site-assets/images/buttons/quantumai_logo_1x.png\" />View on QuantumAI</a>\n",
    "  </td>\n",
    "  <td>\n",
    "    <a target=\"_blank\" href=\"https://colab.research.google.com/github/quantumlib/Cirq/blob/master/docs/tutorials/gibbs_sampling_from_quantum_bayesian_network.ipynb\"><img src=\"https://quantumai.google/site-assets/images/buttons/colab_logo_1x.png\" />Run in Google Colab</a>\n",
    "  </td>\n",
    "  <td>\n",
    "    <a target=\"_blank\" href=\"https://github.com/quantumlib/Cirq/blob/master/docs/tutorials/gibbs_sampling_from_quantum_bayesian_network.ipynb\"><img src=\"https://quantumai.google/site-assets/images/buttons/github_logo_1x.png\" />View source on GitHub</a>\n",
    "  </td>\n",
    "  <td>\n",
    "    <a href=\"https://storage.googleapis.com/tensorflow_docs/Cirq/docs/tutorials/gibbs_sampling_from_quantum_bayesian_network.ipynb\"><img src=\"https://quantumai.google/site-assets/images/buttons/download_icon_1x.png\" />Download notebook</a>\n",
    "  </td>\n",
    "</table>"
   ]
  },
  {
   "cell_type": "markdown",
   "metadata": {
    "id": "67gUU740MSXd"
   },
   "source": [
    "This toturial shows how the use the Bayesian network gate to do Gibbs sampling."
   ]
  },
  {
   "cell_type": "markdown",
   "metadata": {
    "id": "1dOjJlgrNUuz"
   },
   "source": [
    "To begin, please follow the instructions for [installing Cirq](../install.md). We also add some useful imports."
   ]
  },
  {
   "cell_type": "code",
   "execution_count": 2,
   "metadata": {
    "id": "bd9529db1c0b"
   },
   "outputs": [],
   "source": [
    "try:\n",
    "    import cirq\n",
    "except ImportError:\n",
    "    print(\"installing cirq...\")\n",
    "    !pip install --quiet cirq --pre\n",
    "    print(\"installed cirq.\")\n",
    "\n",
    "import cirq.contrib.bayesian_network as ccb\n",
    "from matplotlib import pyplot as plt\n",
    "import numpy as np"
   ]
  },
  {
   "attachments": {
    "qbn.png": {
     "image/png": "[encoded data removed]"
    }
   },
   "cell_type": "markdown",
   "metadata": {
    "id": "xr-MMoXgNsUQ"
   },
   "source": [
    "## Bayesian network\n",
    "\n",
    "We want to build the following network:\n",
    "![qbn.png](attachment:qbn.png)\n",
    "\n",
    "With the probabilities for the independent variables:\n",
    "\n",
    "$p(q_0=1)=0.3$\n",
    "\n",
    "$p(q_1=1)=0.6$\n",
    "\n",
    "$p(q_2=1)=0.3$\n",
    "\n",
    "\n",
    "\n",
    "And the following probabilities for the dependent variable $q_3$:\n",
    "\n",
    "$p(q_3=1 | q_0=0, q_1=0) = 0.01$\n",
    "\n",
    "$p(q_3=1 | q_0=0, q_1=1) = 0.02$\n",
    "\n",
    "$p(q_3=1 | q_0=1, q_1=0) = 0.03$\n",
    "\n",
    "$p(q_3=1 | q_0=1, q_1=1) = 0.04$\n",
    "\n",
    "\n",
    "\n",
    "and $q_4$:\n",
    "\n",
    "$p(q_4=1 | q_2=0, q_3=0) = 0.40$\n",
    "\n",
    "$p(q_4=1 | q_2=0, q_3=1) = 0.10$\n",
    "\n",
    "$p(q_4=1 | q_2=1, q_3=0) = 0.70$\n",
    "\n",
    "$p(q_4=1 | q_2=1, q_3=1) = 0.90$\n",
    "\n",
    "\n"
   ]
  },
  {
   "cell_type": "code",
   "execution_count": 3,
   "metadata": {},
   "outputs": [],
   "source": [
    "qubits = cirq.LineQubit.range(5)\n",
    "\n",
    "qbn_gate = ccb.BayesianNetworkGate(\n",
    "    [('q0', 0.3), ('q1', 0.6), ('q2', 0.3), ('q3', None), ('q4', None)],\n",
    "    [(('q3'), ('q0', 'q1',), [0.01, 0.02, 0.03, 0.04]),\n",
    "     (('q4'), ('q2', 'q3',), [0.40, 0.10, 0.70, 0.90])])"
   ]
  },
  {
   "cell_type": "markdown",
   "metadata": {},
   "source": [
    "We can now sample from the circuit and get all the probabilities:"
   ]
  },
  {
   "cell_type": "code",
   "execution_count": 4,
   "metadata": {
    "id": "PsgSo-H0Os8X"
   },
   "outputs": [
    {
     "name": "stdout",
     "output_type": "stream",
     "text": [
      "p(q0,q1,q2,q3,q4 = 00000) = 0.116424\n",
      "p(q0,q1,q2,q3,q4 = 00001) = 0.077616\n",
      "p(q0,q1,q2,q3,q4 = 00010) = 0.001764\n",
      "p(q0,q1,q2,q3,q4 = 00011) = 0.000196\n",
      "p(q0,q1,q2,q3,q4 = 00100) = 0.024948\n",
      "p(q0,q1,q2,q3,q4 = 00101) = 0.058212\n",
      "p(q0,q1,q2,q3,q4 = 00110) = 0.000084\n",
      "p(q0,q1,q2,q3,q4 = 00111) = 0.000756\n",
      "p(q0,q1,q2,q3,q4 = 01000) = 0.172872\n",
      "p(q0,q1,q2,q3,q4 = 01001) = 0.115248\n",
      "p(q0,q1,q2,q3,q4 = 01010) = 0.005292\n",
      "p(q0,q1,q2,q3,q4 = 01011) = 0.000588\n",
      "p(q0,q1,q2,q3,q4 = 01100) = 0.037044\n",
      "p(q0,q1,q2,q3,q4 = 01101) = 0.086436\n",
      "p(q0,q1,q2,q3,q4 = 01110) = 0.000252\n",
      "p(q0,q1,q2,q3,q4 = 01111) = 0.002268\n",
      "p(q0,q1,q2,q3,q4 = 10000) = 0.048888\n",
      "p(q0,q1,q2,q3,q4 = 10001) = 0.032592\n",
      "p(q0,q1,q2,q3,q4 = 10010) = 0.002268\n",
      "p(q0,q1,q2,q3,q4 = 10011) = 0.000252\n",
      "p(q0,q1,q2,q3,q4 = 10100) = 0.010476\n",
      "p(q0,q1,q2,q3,q4 = 10101) = 0.024444\n",
      "p(q0,q1,q2,q3,q4 = 10110) = 0.000108\n",
      "p(q0,q1,q2,q3,q4 = 10111) = 0.000972\n",
      "p(q0,q1,q2,q3,q4 = 11000) = 0.072576\n",
      "p(q0,q1,q2,q3,q4 = 11001) = 0.048384\n",
      "p(q0,q1,q2,q3,q4 = 11010) = 0.004536\n",
      "p(q0,q1,q2,q3,q4 = 11011) = 0.000504\n",
      "p(q0,q1,q2,q3,q4 = 11100) = 0.015552\n",
      "p(q0,q1,q2,q3,q4 = 11101) = 0.036288\n",
      "p(q0,q1,q2,q3,q4 = 11110) = 0.000216\n",
      "p(q0,q1,q2,q3,q4 = 11111) = 0.001944\n"
     ]
    }
   ],
   "source": [
    "circuit_only_qbn = cirq.Circuit([qbn_gate.on(*qubits)])\n",
    "phi = cirq.Simulator().simulate(\n",
    "    circuit_only_qbn,\n",
    "    qubit_order=qubits,\n",
    "    initial_state=0).state_vector()\n",
    "probs = abs(phi) ** 2\n",
    "\n",
    "for i, prob in enumerate(probs):\n",
    "    print(\"p(q0,q1,q2,q3,q4 = {i:05b}) = {prob:.6f}\"\n",
    "          .format(i=i, prob=prob))\n",
    "    "
   ]
  },
  {
   "cell_type": "markdown",
   "metadata": {},
   "source": [
    "We can marginalize the probabilities to check that the circuit is outputting correct values. In particular, we recorver the correct probability for $q_2$ and see that $q_3$ has a very low probability."
   ]
  },
  {
   "cell_type": "code",
   "execution_count": 5,
   "metadata": {},
   "outputs": [
    {
     "name": "stdout",
     "output_type": "stream",
     "text": [
      "p(q2 = 1) = 0.300000\n",
      "p(q3 = 1) = 0.022000\n"
     ]
    }
   ],
   "source": [
    "print(\"p(q2 = 1) = {prob:.6f}\".format(\n",
    "    prob=sum(prob for i, prob in enumerate(probs) if i & 0x04)))\n",
    "\n",
    "print(\"p(q3 = 1) = {prob:.6f}\".format(\n",
    "    prob=sum(prob for i, prob in enumerate(probs) if i & 0x02)))"
   ]
  },
  {
   "cell_type": "markdown",
   "metadata": {},
   "source": [
    "# Grover's amplification\n",
    "Let's say we want to sample for $q_3 = 1$. We could ramdomly generate samples and hope that $q_3 = 1$. We reject samples that do not follow the condition, and only keep the ones that do. We don't even need a quantum computer for this.\n",
    "\n",
    "However, give the low probability of $q_3 = 1$, we will reject most of our samples. Instead, we can use Grover's amplification to get more samples.\n",
    "\n",
    "We thus define the two operations of the algorithm, the oracle and the diffuser:"
   ]
  },
  {
   "cell_type": "code",
   "execution_count": 6,
   "metadata": {},
   "outputs": [],
   "source": [
    "def oracle(qubits):\n",
    "    # This Oracle should favor |???1?>\n",
    "    yield cirq.Z(qubits[3])\n",
    "\n",
    "def diffuser(qubits):\n",
    "    for q in qubits:\n",
    "        yield cirq.H(q)\n",
    "        yield cirq.X(q)\n",
    "\n",
    "    yield cirq.Z(qubits[-1]).controlled_by(*qubits[0:-1])\n",
    "\n",
    "    for q in qubits:\n",
    "        yield cirq.X(q)\n",
    "        yield cirq.H(q)\n",
    "    yield -1.0 * cirq.I(qubits[0])"
   ]
  },
  {
   "cell_type": "markdown",
   "metadata": {},
   "source": [
    "Let us look at the effect of the two steps on the state vector. We only plot the real value, as the imaginary part is zero. First let's look at the effect of the Oracle."
   ]
  },
  {
   "cell_type": "code",
   "execution_count": 7,
   "metadata": {},
   "outputs": [
    {
     "data": {
      "image/png": "[encoded data removed]",
      "text/plain": [
       "<Figure size 432x288 with 1 Axes>"
      ]
     },
     "metadata": {
      "needs_background": "light"
     },
     "output_type": "display_data"
    }
   ],
   "source": [
    "def compare_amplitudes(circuit_1, circuit_2, qubits):\n",
    "    phi_1 = cirq.Simulator().simulate(\n",
    "        circuit_1,\n",
    "        qubit_order=qubits,\n",
    "        initial_state=0).state_vector()\n",
    "    \n",
    "    phi_2 = cirq.Simulator().simulate(\n",
    "        circuit_2,\n",
    "        qubit_order=qubits,\n",
    "        initial_state=0).state_vector()\n",
    "    \n",
    "    idx_q3_is_0 = [i for i in range(2 ** 5) if i & 0x02 == 0]\n",
    "    idx_q3_is_1 = [i for i in range(2 ** 5) if i & 0x02 != 0]\n",
    "    \n",
    "    plt.plot(phi_1[idx_q3_is_0].real, phi_2[idx_q3_is_0].real, '.r')\n",
    "    plt.plot(phi_1[idx_q3_is_1].real, phi_2[idx_q3_is_1].real, '.b')\n",
    "    plt.grid()\n",
    "    plt.legend(['q_3=0', 'q_3=1'])\n",
    "\n",
    "circuit_after_1_oracle = cirq.Circuit(\n",
    "    [qbn_gate.on(*qubits), oracle(qubits)])\n",
    "    \n",
    "compare_amplitudes(circuit_only_qbn, circuit_after_1_oracle, qubits)\n",
    "plt.xlabel('original circuit')\n",
    "plt.ylabel('after 1 oracle')\n",
    "plt.axis('equal');"
   ]
  },
  {
   "cell_type": "markdown",
   "metadata": {},
   "source": [
    "Each point corresponds to one outcome (there are 32 points total, 16 blue where $q_3=1$) and the axes are the real magnitude of the state vector (i.e. the square root of the probability). We observe two things: First, as expected the outcomes $q_3=1$ have low probabilities. Second, the oracle indeed flips the magnitude of the state vector.\n",
    "\n",
    "Let's apply the amplification step:\n"
   ]
  },
  {
   "cell_type": "code",
   "execution_count": 8,
   "metadata": {},
   "outputs": [
    {
     "data": {
      "image/png": "[encoded data removed]",
      "text/plain": [
       "<Figure size 432x288 with 1 Axes>"
      ]
     },
     "metadata": {
      "needs_background": "light"
     },
     "output_type": "display_data"
    }
   ],
   "source": [
    "circuit_after_1_oracle_1_amplification = cirq.Circuit(\n",
    "    [qbn_gate.on(*qubits), oracle(qubits), diffuser(qubits)])\n",
    "    \n",
    "compare_amplitudes(\n",
    "    circuit_only_qbn, circuit_after_1_oracle_1_amplification, qubits)\n",
    "plt.xlabel('original circuit')\n",
    "plt.ylabel('after 1 oracle and 1 amplification')\n",
    "plt.axis('equal');"
   ]
  },
  {
   "cell_type": "markdown",
   "metadata": {},
   "source": [
    "# Gibb's sampling\n",
    "We need to remove the offset. For each outcome, the new probability $\\tilde{p_i}$ is related to the original probability $p_i$ by:\n",
    "\n",
    "$\\sqrt{\\tilde{p_i}} = \\sqrt{p_i} + \\alpha$\n",
    "\n",
    "We sum over all samples, and solving for $\\alpha$ we have:\n",
    "\n",
    "$$\n",
    "\\alpha = \\sum \\sqrt{\\tilde{p_i}} - \\sqrt{\\left( \\sum \\sqrt{\\tilde{p_i}}\\right) ^ 2 - \\sum \\tilde{p_i} + \\sum p_i}\n",
    "$$\n",
    "\n",
    "Let us first estimate $\\sum p_i$"
   ]
  },
  {
   "cell_type": "code",
   "execution_count": 9,
   "metadata": {},
   "outputs": [
    {
     "name": "stdout",
     "output_type": "stream",
     "text": [
      "0.023\n"
     ]
    }
   ],
   "source": [
    "measure_q3_in_qbn = circuit_only_qbn.copy()\n",
    "measure_q3_in_qbn += cirq.measure(qubits[3], key='q3')\n",
    "\n",
    "result_only_qbn = cirq.Simulator(seed=20160913).sample(\n",
    "    measure_q3_in_qbn, repetitions=10000)\n",
    "\n",
    "sum_pi = np.mean(result_only_qbn['q3'].to_numpy()).item()\n",
    "print(sum_pi)"
   ]
  },
  {
   "cell_type": "markdown",
   "metadata": {},
   "source": [
    "As expected, the value we get is close to the theoritical value of 0.022000 we had previously computed.\n",
    "\n",
    "We then estimate $\\alpha$."
   ]
  }
 ],
 "metadata": {
  "colab": {
   "collapsed_sections": [],
   "name": "gibbs_sampling_from_quantum_bayesian_network.ipynb",
   "toc_visible": true
  },
  "kernelspec": {
   "display_name": "Python 3 (ipykernel)",
   "language": "python",
   "name": "python3"
  },
  "language_info": {
   "codemirror_mode": {
    "name": "ipython",
    "version": 3
   },
   "file_extension": ".py",
   "mimetype": "text/x-python",
   "name": "python",
   "nbconvert_exporter": "python",
   "pygments_lexer": "ipython3",
   "version": "3.9.9"
  }
 },
 "nbformat": 4,
 "nbformat_minor": 1
}
