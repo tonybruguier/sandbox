{
 "cells": [
  {
   "cell_type": "code",
   "execution_count": 1,
   "metadata": {},
   "outputs": [],
   "source": [
    "# https://strawberryfields.ai/photonics/demos/run_gate_visualization.html\n",
    "\n",
    "import time\n",
    "\n",
    "import strawberryfields as sf\n",
    "from strawberryfields.ops import *\n",
    "\n",
    "import numpy as np\n",
    "from numpy import pi, sqrt\n",
    "import matplotlib.pyplot as plt\n",
    "from mpl_toolkits.mplot3d import Axes3D"
   ]
  },
  {
   "cell_type": "code",
   "execution_count": 2,
   "metadata": {},
   "outputs": [],
   "source": [
    "# set the random seed\n",
    "np.random.seed(42)\n",
    "\n",
    "prog = sf.Program(3)\n",
    "\n",
    "alpha = 0.0\n",
    "r = np.abs(alpha)\n",
    "phi = np.angle(alpha)\n",
    "\n",
    "with prog.context as q:\n",
    "    # prepare initial states\n",
    "    Coherent(r, phi) | q[0]\n",
    "    Squeezed(-2) | q[1]\n",
    "    Squeezed(2) | q[2]\n",
    "\n",
    "    # apply gates\n",
    "    BS = BSgate(pi/4, pi)\n",
    "    BS | (q[1], q[2])\n",
    "    BS | (q[0], q[1])\n",
    "\n",
    "    # Perform homodyne measurements\n",
    "    MeasureX | q[0]\n",
    "    MeasureP | q[1]\n",
    "\n",
    "    # Displacement gates conditioned on\n",
    "    # the measurements\n",
    "    Xgate(sqrt(2) * q[0].par) | q[2]\n",
    "    Zgate(sqrt(2) * q[1].par) | q[2]\n",
    "\n",
    "eng = sf.Engine('fock', backend_options={\"cutoff_dim\": 11})\n",
    "\n",
    "\n",
    "result = eng.run(prog, shots=1, modes=None, compile_options={})\n",
    "#print(result.samples)\n",
    "rho2 = np.einsum('kkllij->ij', result.state.dm())"
   ]
  }
 ],
 "metadata": {
  "kernelspec": {
   "display_name": "Python 3",
   "language": "python",
   "name": "python3"
  },
  "language_info": {
   "codemirror_mode": {
    "name": "ipython",
    "version": 3
   },
   "file_extension": ".py",
   "mimetype": "text/x-python",
   "name": "python",
   "nbconvert_exporter": "python",
   "pygments_lexer": "ipython3",
   "version": "3.8.10"
  }
 },
 "nbformat": 4,
 "nbformat_minor": 2
}
